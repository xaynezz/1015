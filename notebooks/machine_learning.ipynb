{
 "cells": [
  {
   "cell_type": "markdown",
   "id": "3f95aaeb",
   "metadata": {},
   "source": [
    "# Machine Learning\n",
    "In this notebook, we will be using the following machine learning models time series of World Happiness:\n",
    "- Vector Autoregression (VAR)\n",
    "- Autoregression (AR)\n",
    "- Autoregressive Integrated Moving Average (ARIMA)\n",
    "\n",
    "Firstly, let us take a look at our data (We will use United States as an example)"
   ]
  },
  {
   "cell_type": "code",
   "execution_count": null,
   "id": "99e362e3",
   "metadata": {},
   "outputs": [],
   "source": [
    "import pandas as pd\n",
    "import numpy as np\n",
    "import matplotlib.pyplot as plt\n",
    "%matplotlib inline\n",
    "import warnings\n",
    "warnings.simplefilter(action='ignore', category= FutureWarning)\n",
    "warnings.simplefilter(action='ignore', category= UserWarning)"
   ]
  },
  {
   "cell_type": "code",
   "execution_count": null,
   "id": "03c93531",
   "metadata": {
    "scrolled": false
   },
   "outputs": [],
   "source": [
    "data = {}\n",
    "for x in range (2015,2022):\n",
    "    data[x] = pd.read_csv(f'../cleaned_data/{str(x)}.csv')\n",
    "countries = data[2015]['Country']\n",
    "\n",
    "time = {}\n",
    "for x in countries:\n",
    "    time[x] = pd.read_csv(f'../time_series/{x}.csv')\n",
    "    time[x] = time[x].set_index('Year')\n",
    "\n",
    "# Example of time series: United States\n",
    "df = time['United States']\n",
    "print(df)\n",
    "fig, axes = plt.subplots(nrows=7, ncols=1, dpi=120, figsize=(6,20))\n",
    "for i, ax in enumerate(axes.flatten()):\n",
    "    ax.plot(df[df.columns[i]], color='red', linewidth=1)\n",
    "    # Decorations\n",
    "    ax.set_title(df.columns[i])\n",
    "    ax.xaxis.set_ticks_position('none')\n",
    "    ax.yaxis.set_ticks_position('none')\n",
    "    ax.spines[\"top\"].set_alpha(0)\n",
    "    ax.tick_params(labelsize=6)\n",
    "\n",
    "plt.tight_layout();"
   ]
  },
  {
   "cell_type": "markdown",
   "id": "9298049e",
   "metadata": {},
   "source": [
    "# 1. Vector Autoregression (VAR)\n",
    "\n",
    "**VAR** is a multivariate forecasting algorithm that is used when two or more time series influence each other. For our data, certain variables such as **Trust**, may affect other variables, such as **Freedom**.\n"
   ]
  },
  {
   "cell_type": "code",
   "execution_count": null,
   "id": "cad567c7",
   "metadata": {},
   "outputs": [],
   "source": [
    "from statsmodels.tsa.api import VAR\n",
    "from statsmodels.tsa.stattools import adfuller\n",
    "from statsmodels.tools.eval_measures import rmse, aic"
   ]
  },
  {
   "cell_type": "markdown",
   "id": "15b36529",
   "metadata": {},
   "source": [
    "From here, we can see that some of factors affect others (Example: Trust_y and Freedom_x have p-value of < 0.05)\n",
    "We will now set up the VAR Model.\n",
    "\n",
    "# 1. Autoregression on Score"
   ]
  },
  {
   "cell_type": "code",
   "execution_count": null,
   "id": "c61e6501",
   "metadata": {
    "scrolled": false
   },
   "outputs": [],
   "source": [
    "from statsmodels.tsa.ar_model import AutoReg\n",
    "from statsmodels.tsa.stattools import adfuller\n",
    "\n",
    "ar_score_pred = data[2021][['Country','Score']].copy()\n",
    "ar_pred_list = []\n",
    "\n",
    "#Applying model on all countries\n",
    "for country in countries:\n",
    "    df = time[country]['Score']\n",
    "\n",
    "    df_stationarityTest = adfuller(df, autolag='AIC')\n",
    "    \n",
    "    train_data, test_data = df[0:6], df[6]\n",
    "    ar_model = AutoReg(df,lags = 1).fit()\n",
    "    pred = ar_model.predict(start=len(train_data), end=(len(df)-1), dynamic=False)\n",
    "    ar_pred_list.append(pred.values[0])\n",
    "    \n",
    "ar_score_pred['Pred'] = ar_pred_list\n",
    "ar_score_pred"
   ]
  },
  {
   "cell_type": "markdown",
   "id": "73815ceb",
   "metadata": {},
   "source": [
    "As we can see, applying autoregression with a time lag of 1 from years 2015-2020 to predict 2021 data has worked and yielded results. "
   ]
  },
  {
   "cell_type": "markdown",
   "id": "a20f1fa1",
   "metadata": {},
   "source": [
    "# 2. Autoregression on Variables"
   ]
  },
  {
   "cell_type": "code",
   "execution_count": null,
   "id": "652b41b6",
   "metadata": {},
   "outputs": [],
   "source": [
    "ar_var_pred = data[2021][['Country','Score']].copy()\n",
    "\n",
    "\n",
    "#Applying model on all countries\n",
    "for var in ['Economy','Family','Health','Freedom','Generosity', 'Trust']:\n",
    "    var_list = []\n",
    "    for country in countries:\n",
    "        df = time[country][var]\n",
    "        train_data, test_data = df[0:6], df[6:7]\n",
    "        \n",
    "        ar_model = AutoReg(df,lags = 1).fit()\n",
    "        pred = ar_model.predict(start=len(train_data), end=(len(df)-1), dynamic=False)\n",
    "        var_list.append(pred.values[0])\n",
    "\n",
    "    ar_var_pred[var] = var_list\n",
    "ar_var_pred"
   ]
  },
  {
   "cell_type": "code",
   "execution_count": null,
   "id": "78a6e302",
   "metadata": {},
   "outputs": [],
   "source": []
  },
  {
   "cell_type": "markdown",
   "id": "897b446a",
   "metadata": {},
   "source": [
    "# 3. ARIMA"
   ]
  },
  {
   "cell_type": "code",
   "execution_count": null,
   "id": "122b4cf1",
   "metadata": {},
   "outputs": [],
   "source": [
    "import statsmodels.api as sm\n",
    "arimatest = time['Zimbabwe']['Score']\n",
    "model =  sm.tsa.arima.ARIMA(arimatest[0:6], order=(1,1,2))\n",
    "model_fit = model.fit()\n",
    "print(model_fit.summary())\n",
    "model_fit.forecast(15, alpha=0.05)"
   ]
  },
  {
   "cell_type": "code",
   "execution_count": null,
   "id": "3a9ef986",
   "metadata": {},
   "outputs": [],
   "source": []
  }
 ],
 "metadata": {
  "kernelspec": {
   "display_name": "Python 3 (ipykernel)",
   "language": "python",
   "name": "python3"
  },
  "language_info": {
   "codemirror_mode": {
    "name": "ipython",
    "version": 3
   },
   "file_extension": ".py",
   "mimetype": "text/x-python",
   "name": "python",
   "nbconvert_exporter": "python",
   "pygments_lexer": "ipython3",
   "version": "3.9.7"
  }
 },
 "nbformat": 4,
 "nbformat_minor": 5
}
